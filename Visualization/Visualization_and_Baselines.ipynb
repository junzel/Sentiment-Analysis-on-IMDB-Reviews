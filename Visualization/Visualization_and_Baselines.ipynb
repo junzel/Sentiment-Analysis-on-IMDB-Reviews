{
 "cells": [
  {
   "cell_type": "markdown",
   "metadata": {},
   "source": [
    "## Loading Data and Preprocessing"
   ]
  },
  {
   "cell_type": "code",
   "execution_count": 1,
   "metadata": {
    "collapsed": false
   },
   "outputs": [
    {
     "name": "stdout",
     "output_type": "stream",
     "text": [
      "Number of reviews: <type 'list'>\n",
      "Samples per class (training): [12500 12500]\n",
      "Number of reviews: <type 'list'>\n",
      "Samples per class (training): [12500 12500]\n",
      "Loading Completed!\n"
     ]
    }
   ],
   "source": [
    "import numpy as np\n",
    "import os, sys\n",
    "import pdb\n",
    "import matplotlib\n",
    "import matplotlib.pyplot as plt\n",
    "from sklearn.datasets import load_files\n",
    "from sklearn.feature_extraction.text import CountVectorizer\n",
    "\n",
    "TRAIN_PATH = '../aclImdb/train/'\n",
    "TEST_PATH = '../aclImdb/test/'\n",
    "\n",
    "# each data sample (review) is a document of words\n",
    "# each review is either negative (0) or positive (1)\n",
    "reviews_train = load_files(TRAIN_PATH)\n",
    "data_train, targets_train = reviews_train.data, reviews_train.target\n",
    "print(\"Number of reviews: {}\".format(type(data_train))) # 25000\n",
    "print(\"Samples per class (training): {}\".format(np.bincount(targets_train)))\n",
    "\n",
    "reviews_test = load_files(TEST_PATH)\n",
    "data_test, targets_test = reviews_test.data, reviews_test.target\n",
    "print(\"Number of reviews: {}\".format(type(data_train))) # 25000\n",
    "print(\"Samples per class (training): {}\".format(np.bincount(targets_train)))\n",
    "\n",
    "# remove line breakers\n",
    "data_train = [review.replace(b\"<br />\", b\" \") for review in data_train]\n",
    "data_test = [review.replace(b\"<br />\", b\" \") for review in data_test]\n",
    "\n",
    "print(\"Loading Completed!\")"
   ]
  },
  {
   "cell_type": "markdown",
   "metadata": {},
   "source": [
    "## Vectorize reviews"
   ]
  },
  {
   "cell_type": "code",
   "execution_count": 2,
   "metadata": {
    "collapsed": false
   },
   "outputs": [
    {
     "name": "stdout",
     "output_type": "stream",
     "text": [
      "Size of vocabulary: 74849\n",
      "Features 20010 to 20030:\n",
      "[u'dratted', u'draub', u'draught', u'draughts', u'draughtswoman', u'draw', u'drawback', u'drawbacks', u'drawer', u'drawers', u'drawing', u'drawings', u'drawl', u'drawled', u'drawling', u'drawn', u'draws', u'draza', u'dre', u'drea']\n"
     ]
    }
   ],
   "source": [
    "vect = CountVectorizer()\n",
    "vect.fit(data_train)\n",
    "feature_names = vect.get_feature_names()\n",
    "print(\"Size of vocabulary: {}\".format(len(feature_names)))\n",
    "print(\"Features 20010 to 20030:\\n{}\".format(feature_names[20010:20030]))\n",
    "\n",
    "X_train = vect.transform(data_train) # 25000 x 74849"
   ]
  },
  {
   "cell_type": "markdown",
   "metadata": {},
   "source": [
    "## Baseline (Logistic regresssion)"
   ]
  },
  {
   "cell_type": "code",
   "execution_count": 3,
   "metadata": {
    "collapsed": false
   },
   "outputs": [
    {
     "name": "stderr",
     "output_type": "stream",
     "text": [
      "/Applications/anaconda/lib/python2.7/site-packages/sklearn/linear_model/logistic.py:758: ConvergenceWarning: lbfgs failed to converge. Increase the number of iterations.\n",
      "  \"of iterations.\", ConvergenceWarning)\n"
     ]
    },
    {
     "name": "stdout",
     "output_type": "stream",
     "text": [
      "Mean cross-validation accuracy: 0.88\n"
     ]
    }
   ],
   "source": [
    "from sklearn.model_selection import cross_val_score\n",
    "from sklearn.linear_model import LogisticRegression\n",
    "scores = cross_val_score(LogisticRegression(solver='lbfgs',max_iter=200), X_train, targets_train, cv=5)\n",
    "print(\"Mean cross-validation accuracy: {:.2f}\".format(np.mean(scores)))"
   ]
  },
  {
   "cell_type": "markdown",
   "metadata": {},
   "source": [
    "## Visualization"
   ]
  },
  {
   "cell_type": "code",
   "execution_count": 4,
   "metadata": {
    "collapsed": true
   },
   "outputs": [],
   "source": [
    "from wordcloud import WordCloud, STOPWORDS, ImageColorGenerator\n",
    "import pandas as pd\n",
    "from PIL import Image"
   ]
  },
  {
   "cell_type": "code",
   "execution_count": 5,
   "metadata": {
    "collapsed": false
   },
   "outputs": [
    {
     "name": "stdout",
     "output_type": "stream",
     "text": [
      "[u'whelan', u'whelming', u'whereever', u'whetted', u'whic', u'whick', u'whidbey', u'whig', u'whigham', u'whiile']\n",
      "[u'anbuselvan', u'anchorpoint', u'anch\\xeda', u'ancona', u'anda', u'andaaz', u'andalusia', u'anddd', u'andelou', u'andersen']\n"
     ]
    }
   ],
   "source": [
    "vect_fit = vect.fit_transform(data_train)\n",
    "\n",
    "neg_include = targets_train == 0\n",
    "pos_include = targets_train == 1\n",
    "neg_word_freq = np.array(vect_fit[neg_include].sum(axis=0))[0]\n",
    "pos_word_freq = np.array(vect_fit[pos_include].sum(axis=0))[0]\n",
    "assert neg_include.sum() + pos_include.sum() == len(targets_train)\n",
    "\n",
    "neg_sorted_names = [name for _, name in sorted(zip(neg_word_freq, feature_names))]\n",
    "pos_sorted_names = [name for _, name in sorted(zip(pos_word_freq, feature_names))]\n",
    "neg_sorted_freq = sorted(neg_word_freq)\n",
    "pos_sorted_freq = sorted(pos_word_freq)\n",
    "\n",
    "# Some wrongly spelled words in reviews\n",
    "print(neg_sorted_names[20000:20010])\n",
    "print(pos_sorted_names[20000:20010])"
   ]
  },
  {
   "cell_type": "code",
   "execution_count": null,
   "metadata": {
    "collapsed": false
   },
   "outputs": [],
   "source": [
    "# make plot\n",
    "# print(list(range(len(neg_sorted_freq[0:50]))))\n",
    "fig, axs = plt.subplots(1,2)\n",
    "axs[0].bar(list(range(len(neg_sorted_freq[0:50]))), neg_sorted_freq[0:50])\n",
    "axs[0].set_xticks(list(range(len(neg_sorted_freq[0:50]))), neg_sorted_names[0:50])\n",
    "axs[1].bar(list(range(len(pos_sorted_freq[0:50]))), pos_sorted_freq[0:50])\n",
    "axs[1].set_xticks(list(range(len(pos_sorted_freq[0:50]))), pos_sorted_names[0:50])\n",
    "plt.show()"
   ]
  },
  {
   "cell_type": "code",
   "execution_count": null,
   "metadata": {
    "collapsed": true
   },
   "outputs": [],
   "source": []
  }
 ],
 "metadata": {
  "anaconda-cloud": {},
  "kernelspec": {
   "display_name": "Python [Root]",
   "language": "python",
   "name": "Python [Root]"
  },
  "language_info": {
   "codemirror_mode": {
    "name": "ipython",
    "version": 2
   },
   "file_extension": ".py",
   "mimetype": "text/x-python",
   "name": "python",
   "nbconvert_exporter": "python",
   "pygments_lexer": "ipython2",
   "version": "2.7.12"
  }
 },
 "nbformat": 4,
 "nbformat_minor": 0
}
